{
 "cells": [
  {
   "cell_type": "code",
   "execution_count": 2,
   "metadata": {},
   "outputs": [
    {
     "name": "stdout",
     "output_type": "stream",
     "text": [
      "Jupyter environment detected. Enabling Open3D WebVisualizer.\n",
      "[Open3D INFO] WebRTC GUI backend enabled.\n",
      "[Open3D INFO] WebRTCWindowSystem: HTTP handshake server disabled.\n"
     ]
    }
   ],
   "source": [
    "import pandas as pd\n",
    "import numpy as np\n",
    "from scipy.spatial.transform import Rotation as R\n",
    "import open3d as o3d\n",
    "import time\n",
    "import os\n",
    "import json\n",
    "import matplotlib.pyplot as plt\n",
    "from PIL import Image"
   ]
  },
  {
   "cell_type": "code",
   "execution_count": 3,
   "metadata": {},
   "outputs": [],
   "source": [
    "def load_csv(file_path):\n",
    "    try:\n",
    "        df = pd.read_csv(file_path, sep=\";\")\n",
    "        print(df.shape)\n",
    "        if df.empty:\n",
    "            print(\"The CSV file is empty.\")\n",
    "            return None\n",
    "        return df\n",
    "    except pd.errors.EmptyDataError:\n",
    "        print(\"No data in the CSV file.\")\n",
    "        return None\n",
    "    except pd.errors.ParserError:\n",
    "        print(\"Error parsing the CSV file.\")\n",
    "        return None\n",
    "    except Exception as e:\n",
    "        print(f\"An error occurred: {e}\")\n",
    "        return None\n"
   ]
  },
  {
   "cell_type": "code",
   "execution_count": 4,
   "metadata": {},
   "outputs": [],
   "source": [
    "def get_camera_matrices(camera_path):\n",
    "    camdf = pd.read_csv(camera_path)\n",
    "    camdf = camdf.set_index(camdf['Property'])\n",
    "    camdf = camdf.drop(['Property'], axis = 1)\n",
    "\n",
    "    fov = round(float(camdf.loc['fov']['Value']), 2)\n",
    "    location_x = round(float(camdf.loc['location_x']['Value']), 2)\n",
    "    location_y = round(float(camdf.loc['location_y']['Value']), 2)\n",
    "    location_z = round(float(camdf.loc['location_z']['Value']), 2)\n",
    "    rotation_euler_x = round(float(camdf.loc['rotation_euler_x']['Value']), 2)\n",
    "    rotation_euler_y = round(float(camdf.loc['rotation_euler_y']['Value']), 2)\n",
    "    rotation_euler_z = round(float(camdf.loc['rotation_euler_z']['Value']), 2)\n",
    "    resolution_x = round(float(camdf.loc['resolution_x']['Value']), 2)\n",
    "    resolution_y = round(float(camdf.loc['resolution_y']['Value']), 2)\n",
    "\n",
    "    cx = resolution_x / 2\n",
    "    cy = resolution_y / 2\n",
    "    fx = cx / np.tan(np.radians(fov / 2))\n",
    "    fy = fx\n",
    "\n",
    "    K = np.array([\n",
    "        [fx, 0, cx],\n",
    "        [0, fy, cy],\n",
    "        [0, 0, 1]\n",
    "    ])\n",
    "\n",
    "    rotation_euler = np.radians([rotation_euler_x, rotation_euler_y, rotation_euler_z])\n",
    "    R_matrix = R.from_euler('xyz', rotation_euler).as_matrix()\n",
    "\n",
    "    t = np.array([location_x, location_y, location_z]).reshape((3, 1))\n",
    "\n",
    "    extrinsic = np.hstack((R_matrix, t))\n",
    "    extrinsic = np.vstack((extrinsic, np.array([0, 0, 0, 1])))\n",
    "\n",
    "    return int(resolution_x), int(resolution_y), K, extrinsic"
   ]
  },
  {
   "cell_type": "code",
   "execution_count": 5,
   "metadata": {},
   "outputs": [],
   "source": [
    "def get_loaded_camera_matrices(camera_path):\n",
    "    with open(camera_path, 'r') as f:\n",
    "        loaded_data = json.load(f)\n",
    "        K_loaded = np.array(loaded_data['K'])\n",
    "        RT_loaded = np.array(loaded_data['RT'])\n",
    "        resx = int(loaded_data['resolution_x'])\n",
    "        resy = int(loaded_data['resolution_y'])\n",
    "\n",
    "    return resx, resy, K_loaded, RT_loaded"
   ]
  },
  {
   "cell_type": "code",
   "execution_count": 6,
   "metadata": {},
   "outputs": [],
   "source": [
    "def get_point_cloud(file_path, noise = False):\n",
    "    df = load_csv(file_path)\n",
    "    if noise: coord = ['X', 'Y', 'Z']\n",
    "    else: coord = ['X_noise', 'Y_noise', 'Z_noise']\n",
    "\n",
    "    points = df[coord].values\n",
    "    colors = df[['red', 'green', 'blue']].values\n",
    "\n",
    "    point_cloud = o3d.geometry.PointCloud()\n",
    "    point_cloud.points = o3d.utility.Vector3dVector(points)\n",
    "    point_cloud.colors = o3d.utility.Vector3dVector(colors)\n",
    "\n",
    "    return point_cloud"
   ]
  },
  {
   "cell_type": "code",
   "execution_count": 7,
   "metadata": {},
   "outputs": [],
   "source": [
    "def compute_projection_matrix(icm, ecm):\n",
    "    \"\"\"\n",
    "    Compute the projection matrix P from intrinsic matrix icm and extrinsic matrix ecm.\n",
    "\n",
    "    Parameters:\n",
    "    - icm: Intrinsic matrix (3x3 numpy array)\n",
    "    - ecm: Extrinsic matrix (4x4 numpy array)\n",
    "\n",
    "    Returns:\n",
    "    - P: Projection matrix (3x4 numpy array)\n",
    "    \"\"\"\n",
    "\n",
    "    R = ecm[:3, :3] \n",
    "    t = ecm[:3, 3].reshape(-1, 1)\n",
    "\n",
    "    # Compute projection matrix P = K * [R | t]\n",
    "    P = np.dot(icm, np.hstack((R, t)))\n",
    "\n",
    "    return P"
   ]
  },
  {
   "cell_type": "code",
   "execution_count": 8,
   "metadata": {},
   "outputs": [],
   "source": [
    "def show_projection(image_path, p2d):\n",
    "    image = Image.open(image_path)\n",
    "\n",
    "    image_np = np.array(image)\n",
    "\n",
    "    points = np.array(p2d)\n",
    "\n",
    "    x = points[:, 0]\n",
    "    y = points[:, 1]\n",
    "\n",
    "    plt.imshow(image_np)\n",
    "\n",
    "    plt.scatter(x, y, color='blue', marker='o', alpha=0.1)\n",
    "\n",
    "    plt.title('Image with Points')\n",
    "    plt.xlabel('X coordinate')\n",
    "    plt.ylabel('Y coordinate')\n",
    "\n",
    "    plt.show()"
   ]
  },
  {
   "cell_type": "markdown",
   "metadata": {},
   "source": [
    "## OPEN 3D VIS"
   ]
  },
  {
   "cell_type": "code",
   "execution_count": 9,
   "metadata": {},
   "outputs": [
    {
     "name": "stdout",
     "output_type": "stream",
     "text": [
      "(45605, 14)\n"
     ]
    },
    {
     "data": {
      "image/png": "[encoded data removed]",
      "text/plain": [
       "<Figure size 640x480 with 1 Axes>"
      ]
     },
     "metadata": {},
     "output_type": "display_data"
    },
    {
     "name": "stdout",
     "output_type": "stream",
     "text": [
      "Sat Jun 15 22:07:07 2024\n",
      "[Open3D WARNING] GLFW Error: WGL: Failed to make context current: The handle is invalid. \n",
      "[Open3D WARNING] GLFW Error: WGL: Failed to make context current: The handle is invalid. \n",
      "Stopped by user\n"
     ]
    }
   ],
   "source": [
    "def visualize_point_cloud_and_project(file_path, camera_path, image_path, noise = False):\n",
    "\n",
    "    pcd = get_point_cloud(file_path, noise)\n",
    "\n",
    "    resx, resy, icm, ecm = get_loaded_camera_matrices(camera_path)\n",
    "\n",
    "    Points2D = []\n",
    "\n",
    "    P = compute_projection_matrix(icm, ecm)\n",
    "\n",
    "    points_np = np.asarray(pcd.points)\n",
    "\n",
    "    for i in range(len(points_np)):\n",
    "        point = points_np[i]\n",
    "        point = list(point)\n",
    "        point.append(1)\n",
    "\n",
    "        point_3D = np.array(point).reshape((4, 1))\n",
    "\n",
    "        point_2D_homogeneous = np.dot(P, point_3D)\n",
    "\n",
    "        point_2D = point_2D_homogeneous / point_2D_homogeneous[2]\n",
    "\n",
    "        Points2D.append([point_2D[0, 0], point_2D[1, 0]])\n",
    "\n",
    "    show_projection(image_path, Points2D)\n",
    "\n",
    "    vis = o3d.visualization.Visualizer()\n",
    "    vis.create_window(window_name='Virtual Information Space', width=950, height=1080, left=0, top=35)\n",
    "    vis.add_geometry(pcd)\n",
    "\n",
    "    cameraLines = o3d.geometry.LineSet.create_camera_visualization(view_width_px=resx, view_height_px=resy, intrinsic = icm, extrinsic = ecm)\n",
    "    vis.add_geometry(cameraLines)\n",
    "\n",
    "    last_modified_time = os.path.getmtime(file_path)\n",
    "\n",
    "    print(time.ctime(last_modified_time))\n",
    "\n",
    "    try:\n",
    "        while True:\n",
    "            current_modified_time = os.path.getmtime(file_path)\n",
    "            \n",
    "            if current_modified_time != last_modified_time:\n",
    "                temp = get_point_cloud(file_path, noise)\n",
    "                if temp is not None: \n",
    "                    pcd = temp\n",
    "                    print(pcd.points)\n",
    "                    vis.clear_geometries()\n",
    "                    vis.add_geometry(pcd)\n",
    "                last_modified_time = current_modified_time\n",
    "            \n",
    "            vis.update_geometry(pcd)\n",
    "            vis.poll_events()\n",
    "            vis.update_renderer()\n",
    "\n",
    "    except KeyboardInterrupt:\n",
    "        print(\"Stopped by user\")\n",
    "        \n",
    "    vis.destroy_window()\n",
    "\n",
    "    return Points2D\n",
    "\n",
    "file_path = 'C:\\\\Programming\\\\Fourth Semester\\\\PointVIS\\\\PointVIS\\\\assets\\\\output\\\\toilet4_frames_17_to_17.csv'\n",
    "camera_path = 'C:\\\\Programming\\\\Fourth Semester\\\\PointVIS\\\\PointVIS\\\\assets\\\\output\\\\camera4.csv'\n",
    "image_path = 'C:/Programming/Fourth Semester/PointVIS/PointVIS/assets/output/toilet4_frame_17_image_segmented.png'\n",
    "p2d = visualize_point_cloud_and_project(file_path = file_path, image_path=image_path, noise = False, camera_path = camera_path)"
   ]
  }
 ],
 "metadata": {
  "kernelspec": {
   "display_name": "ProjectPCD",
   "language": "python",
   "name": "python3"
  },
  "language_info": {
   "codemirror_mode": {
    "name": "ipython",
    "version": 3
   },
   "file_extension": ".py",
   "mimetype": "text/x-python",
   "name": "python",
   "nbconvert_exporter": "python",
   "pygments_lexer": "ipython3",
   "version": "3.8.18"
  }
 },
 "nbformat": 4,
 "nbformat_minor": 2
}
