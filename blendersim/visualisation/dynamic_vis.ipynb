{
 "cells": [
  {
   "cell_type": "code",
   "execution_count": 11,
   "metadata": {},
   "outputs": [],
   "source": [
    "import pandas as pd\n",
    "import numpy as np\n",
    "from scipy.spatial.transform import Rotation as R\n",
    "import open3d as o3d\n",
    "import time\n",
    "import os"
   ]
  },
  {
   "cell_type": "code",
   "execution_count": 12,
   "metadata": {},
   "outputs": [],
   "source": [
    "def load_csv(file_path):\n",
    "    try:\n",
    "        df = pd.read_csv(file_path, sep=\";\")\n",
    "        print(df.shape)\n",
    "        if df.empty:\n",
    "            print(\"The CSV file is empty.\")\n",
    "            return None\n",
    "        return df\n",
    "    except pd.errors.EmptyDataError:\n",
    "        print(\"No data in the CSV file.\")\n",
    "        return None\n",
    "    except pd.errors.ParserError:\n",
    "        print(\"Error parsing the CSV file.\")\n",
    "        return None\n",
    "    except Exception as e:\n",
    "        print(f\"An error occurred: {e}\")\n",
    "        return None\n"
   ]
  },
  {
   "cell_type": "code",
   "execution_count": 13,
   "metadata": {},
   "outputs": [],
   "source": [
    "def get_camera_matrices(camera_path):\n",
    "    camdf = pd.read_csv(camera_path)\n",
    "    camdf = camdf.set_index(camdf['Property'])\n",
    "    camdf = camdf.drop(['Property'], axis = 1)\n",
    "\n",
    "    fov = round(float(camdf.loc['fov']['Value']), 2)\n",
    "    location_x = round(float(camdf.loc['location_x']['Value']), 2)\n",
    "    location_y = round(float(camdf.loc['location_y']['Value']), 2)\n",
    "    location_z = round(float(camdf.loc['location_z']['Value']), 2)\n",
    "    rotation_euler_x = round(float(camdf.loc['rotation_euler_x']['Value']), 2)\n",
    "    rotation_euler_y = round(float(camdf.loc['rotation_euler_y']['Value']), 2)\n",
    "    rotation_euler_z = round(float(camdf.loc['rotation_euler_z']['Value']), 2)\n",
    "    resolution_x = round(float(camdf.loc['resolution_x']['Value']), 2)\n",
    "    resolution_y = round(float(camdf.loc['resolution_y']['Value']), 2)\n",
    "\n",
    "    cx = resolution_x / 2\n",
    "    cy = resolution_y / 2\n",
    "    fx = cx / np.tan(np.radians(fov / 2))\n",
    "    fy = fx\n",
    "\n",
    "    K = np.array([\n",
    "        [fx, 0, cx],\n",
    "        [0, fy, cy],\n",
    "        [0, 0, 1]\n",
    "    ])\n",
    "\n",
    "    rotation_euler = np.radians([rotation_euler_x, rotation_euler_y, rotation_euler_z])\n",
    "    R_matrix = R.from_euler('xyz', rotation_euler).as_matrix()\n",
    "\n",
    "    t = np.array([location_x, location_y, location_z]).reshape((3, 1))\n",
    "\n",
    "    extrinsic = np.hstack((R_matrix, t))\n",
    "    extrinsic = np.vstack((extrinsic, np.array([0, 0, 0, 1])))\n",
    "\n",
    "    return int(resolution_x), int(resolution_y), K, extrinsic"
   ]
  },
  {
   "cell_type": "code",
   "execution_count": 14,
   "metadata": {},
   "outputs": [],
   "source": [
    "def get_point_cloud(file_path, noise = False):\n",
    "    df = load_csv(file_path)\n",
    "    if noise: coord = ['X', 'Y', 'Z']\n",
    "    else: coord = ['X_noise', 'Y_noise', 'Z_noise']\n",
    "\n",
    "    points = df[coord].values\n",
    "    colors = df[['red', 'green', 'blue']].values\n",
    "\n",
    "    point_cloud = o3d.geometry.PointCloud()\n",
    "    point_cloud.points = o3d.utility.Vector3dVector(points)\n",
    "    point_cloud.colors = o3d.utility.Vector3dVector(colors)\n",
    "\n",
    "    return point_cloud"
   ]
  },
  {
   "cell_type": "code",
   "execution_count": 15,
   "metadata": {},
   "outputs": [
    {
     "name": "stdout",
     "output_type": "stream",
     "text": [
      "(45061, 14)\n",
      "Thu Jun 13 01:47:23 2024\n",
      "Stopped by user\n",
      "Hello\n"
     ]
    }
   ],
   "source": [
    "def visualize_point_cloud(file_path, camera_path, noise = False):\n",
    "\n",
    "    pcd = get_point_cloud(file_path, noise)\n",
    "\n",
    "    resx, resy, icm, ecm = get_camera_matrices(camera_path)\n",
    "    \n",
    "    vis = o3d.visualization.Visualizer()\n",
    "    vis.create_window(window_name='Virtual Information Space', width=950, height=1080, left=0, top=35)\n",
    "    vis.add_geometry(pcd)\n",
    "\n",
    "    cameraLines = o3d.geometry.LineSet.create_camera_visualization(view_width_px=resx, view_height_px=resy, intrinsic = icm, extrinsic = ecm)\n",
    "    vis.add_geometry(cameraLines)\n",
    "\n",
    "    last_modified_time = os.path.getmtime(file_path)\n",
    "\n",
    "    print(time.ctime(last_modified_time))\n",
    "\n",
    "    try:\n",
    "        while True:\n",
    "            current_modified_time = os.path.getmtime(file_path)\n",
    "            \n",
    "            if current_modified_time != last_modified_time:\n",
    "                temp = get_point_cloud(file_path, noise)\n",
    "                if temp is not None: \n",
    "                    pcd = temp\n",
    "                    print(pcd.points)\n",
    "                    vis.clear_geometries()\n",
    "                    vis.add_geometry(pcd)\n",
    "                last_modified_time = current_modified_time\n",
    "            \n",
    "            vis.update_geometry(pcd)\n",
    "            vis.poll_events()\n",
    "            vis.update_renderer()\n",
    "\n",
    "    except KeyboardInterrupt:\n",
    "        print(\"Stopped by user\")\n",
    "        \n",
    "    vis.destroy_window()\n",
    "\n",
    "file_path = 'C:\\\\Programming\\\\Fourth Semester\\\\PointVIS\\\\PointVIS\\\\assets\\\\output\\\\toilet4_frames_17_to_17.csv'\n",
    "camera_path = 'C:\\\\Programming\\\\Fourth Semester\\\\PointVIS\\\\PointVIS\\\\assets\\\\output\\\\camera4.csv'\n",
    "visualize_point_cloud(file_path = file_path, noise = False, camera_path = camera_path)\n",
    "print(\"Hello\")"
   ]
  },
  {
   "cell_type": "code",
   "execution_count": 1,
   "metadata": {},
   "outputs": [
    {
     "name": "stdout",
     "output_type": "stream",
     "text": [
      "Jupyter environment detected. Enabling Open3D WebVisualizer.\n",
      "[Open3D INFO] WebRTC GUI backend enabled.\n",
      "[Open3D INFO] WebRTCWindowSystem: HTTP handshake server disabled.\n"
     ]
    },
    {
     "data": {
      "text/plain": [
       "True"
      ]
     },
     "execution_count": 1,
     "metadata": {},
     "output_type": "execute_result"
    }
   ],
   "source": [
    "import open3d \n",
    "\n",
    "WIDTH = 1280\n",
    "HEIGHT = 720\n",
    "\n",
    "vizualizer = open3d.visualization.Visualizer()\n",
    "vizualizer.create_window()\n",
    "vizualizer.create_window(window_name='Virtual Information Space', width=950, height=1080, left=0, top=35)\n",
    "\n",
    "standardCameraParametersObj = vizualizer.get_view_control().convert_to_pinhole_camera_parameters()\n",
    "# cameraLines = open3d.geometry.LineSet.create_camera_visualization(intrinsic=standardCameraParametersObj.intrinsic, extrinsic=standardCameraParametersObj.extrinsic)\n",
    "cameraLines = open3d.geometry.LineSet.create_camera_visualization(view_width_px=WIDTH, view_height_px=HEIGHT, intrinsic=standardCameraParametersObj.intrinsic.intrinsic_matrix, extrinsic=standardCameraParametersObj.extrinsic)\n",
    "vizualizer.add_geometry(cameraLines)\n",
    "\n",
    "# vizualizer.run()"
   ]
  },
  {
   "cell_type": "markdown",
   "metadata": {},
   "source": [
    "# Trail and Error"
   ]
  },
  {
   "cell_type": "code",
   "execution_count": 3,
   "metadata": {},
   "outputs": [
    {
     "data": {
      "text/plain": [
       "array([[913.65680099,   0.        , 474.5       ],\n",
       "       [  0.        , 913.65680099, 527.        ],\n",
       "       [  0.        ,   0.        ,   1.        ]])"
      ]
     },
     "execution_count": 3,
     "metadata": {},
     "output_type": "execute_result"
    }
   ],
   "source": [
    "standardCameraParametersObj.intrinsic.intrinsic_matrix"
   ]
  },
  {
   "cell_type": "code",
   "execution_count": null,
   "metadata": {},
   "outputs": [],
   "source": []
  },
  {
   "cell_type": "code",
   "execution_count": 4,
   "metadata": {},
   "outputs": [
    {
     "name": "stdout",
     "output_type": "stream",
     "text": [
      "Intrinsic matrix K:\n",
      " [[319.99998601   0.         320.        ]\n",
      " [  0.         319.99998601 240.        ]\n",
      " [  0.           0.           1.        ]]\n",
      "Extrinsic matrix E:\n",
      " [[-8.53308796e-02 -2.05711539e-01  9.74885328e-01  6.24181032e+00]\n",
      " [ 9.96352668e-01 -1.76494456e-02  8.34856702e-02 -3.79522743e+01]\n",
      " [ 3.22199194e-05  9.78453504e-01  2.06467284e-01  8.06982994e-01]\n",
      " [ 0.00000000e+00  0.00000000e+00  0.00000000e+00  1.00000000e+00]]\n"
     ]
    }
   ],
   "source": [
    "import numpy as np\n",
    "from scipy.spatial.transform import Rotation as R\n",
    "\n",
    "# Camera parameters\n",
    "fov = 90.00000250447816\n",
    "location_x = 6.241810321807861\n",
    "location_y = -37.952274322509766\n",
    "location_z = 0.8069829940795898\n",
    "rotation_euler_x = 78.08459406341835\n",
    "rotation_euler_y = -0.0018460653965008975\n",
    "rotation_euler_z = 454.89505200618805\n",
    "resolution_x = 640\n",
    "resolution_y = 480\n",
    "\n",
    "# Calculate the intrinsic matrix K\n",
    "cx = resolution_x / 2\n",
    "cy = resolution_y / 2\n",
    "fx = cx / np.tan(np.radians(fov / 2))\n",
    "fy = fx\n",
    "\n",
    "K = np.array([\n",
    "    [fx, 0, cx],\n",
    "    [0, fy, cy],\n",
    "    [0, 0, 1]\n",
    "])\n",
    "\n",
    "# Convert Euler angles to rotation matrix\n",
    "rotation_euler = np.radians([rotation_euler_x, rotation_euler_y, rotation_euler_z])\n",
    "R_matrix = R.from_euler('xyz', rotation_euler).as_matrix()\n",
    "\n",
    "# Translation vector\n",
    "t = np.array([location_x, location_y, location_z]).reshape((3, 1))\n",
    "\n",
    "# Form the extrinsic matrix\n",
    "extrinsic = np.hstack((R_matrix, t))\n",
    "extrinsic = np.vstack((extrinsic, np.array([0, 0, 0, 1])))\n",
    "\n",
    "# Print results\n",
    "print(\"Intrinsic matrix K:\\n\", K)\n",
    "print(\"Extrinsic matrix E:\\n\", extrinsic)\n"
   ]
  },
  {
   "cell_type": "code",
   "execution_count": 11,
   "metadata": {},
   "outputs": [
    {
     "data": {
      "text/plain": [
       "array([[319.99998601,   0.        , 320.        ],\n",
       "       [  0.        , 319.99998601, 240.        ],\n",
       "       [  0.        ,   0.        ,   1.        ]])"
      ]
     },
     "execution_count": 11,
     "metadata": {},
     "output_type": "execute_result"
    },
    {
     "ename": "",
     "evalue": "",
     "output_type": "error",
     "traceback": [
      "\u001b[1;31mThe Kernel crashed while executing code in the current cell or a previous cell. \n",
      "\u001b[1;31mPlease review the code in the cell(s) to identify a possible cause of the failure. \n",
      "\u001b[1;31mClick <a href='https://aka.ms/vscodeJupyterKernelCrash'>here</a> for more info. \n",
      "\u001b[1;31mView Jupyter <a href='command:jupyter.viewOutput'>log</a> for further details."
     ]
    }
   ],
   "source": [
    "K"
   ]
  },
  {
   "cell_type": "code",
   "execution_count": null,
   "metadata": {},
   "outputs": [],
   "source": []
  }
 ],
 "metadata": {
  "kernelspec": {
   "display_name": "ProjectPCD",
   "language": "python",
   "name": "python3"
  },
  "language_info": {
   "codemirror_mode": {
    "name": "ipython",
    "version": 3
   },
   "file_extension": ".py",
   "mimetype": "text/x-python",
   "name": "python",
   "nbconvert_exporter": "python",
   "pygments_lexer": "ipython3",
   "version": "3.8.18"
  }
 },
 "nbformat": 4,
 "nbformat_minor": 2
}
