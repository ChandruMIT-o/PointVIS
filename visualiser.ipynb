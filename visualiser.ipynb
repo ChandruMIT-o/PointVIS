{
 "cells": [
  {
   "cell_type": "code",
   "execution_count": 29,
   "metadata": {},
   "outputs": [],
   "source": [
    "import pandas as pd\n",
    "import numpy as np\n",
    "import open3d as o3d\n",
    "import time\n",
    "import os\n",
    "import json\n",
    "import os\n",
    "from data_repository.lookup_table import read_table\n",
    "import time\n",
    "# import data_repository.lookup_table as lookup"
   ]
  },
  {
   "cell_type": "code",
   "execution_count": 30,
   "metadata": {},
   "outputs": [],
   "source": [
    "def get_all_data():\n",
    "    objects = []\n",
    "    look_up = read_table()\n",
    "    path = 'data_repository/'\n",
    "    \n",
    "    for name in look_up[['objectID', 'instanceID']].values:\n",
    "        ipath = path + f'{name[0]}.{name[1]}'\n",
    "        \n",
    "        # Check if the file exists and has content\n",
    "        while not (os.path.isfile(ipath) and os.path.getsize(ipath) > 0):\n",
    "            print(f\"Waiting for the file {ipath} to be available and have content...\")\n",
    "            time.sleep(1)  # Wait for 1 second before checking again\n",
    "        \n",
    "        objects.append(pd.read_csv(ipath))\n",
    "    \n",
    "    return pd.concat(objects, axis=0)"
   ]
  },
  {
   "cell_type": "code",
   "execution_count": 31,
   "metadata": {},
   "outputs": [],
   "source": [
    "def visualize_without_colors(df:pd.DataFrame, resx, resy, icm, ecm):\n",
    "    \"\"\" \n",
    "    It opens x,y,z points using open3d\n",
    "\n",
    "    parameters:\n",
    "    - df:pd.DataFrame - it should only contain x, y, z columns\n",
    "    \"\"\"\n",
    "\n",
    "    points = np.vstack([df['X'], df['Y'], df['Z']]).T\n",
    "\n",
    "    pcd = o3d.geometry.PointCloud()\n",
    "    pcd.points = o3d.utility.Vector3dVector(points)\n",
    "    # pcd.colors = o3d.utility.Vector3dVector(df[['r','g','b']].values)\n",
    "\n",
    "    vis = o3d.visualization.Visualizer()\n",
    "    vis.create_window(window_name='Virtual Information Space', width=950, height=1080, left=0, top=35)\n",
    "    vis.add_geometry(pcd)\n",
    "    camera_lines = o3d.geometry.LineSet.create_camera_visualization(view_width_px=resx, view_height_px=resy, intrinsic=icm, extrinsic=ecm)\n",
    "    vis.add_geometry(camera_lines)\n",
    "\n",
    "    file_path = \"data_repository/lookup_table.csv\"\n",
    "\n",
    "    last_modified_time = os.path.getmtime(file_path)\n",
    "    print(time.ctime(last_modified_time))\n",
    "\n",
    "    try:\n",
    "        while True:\n",
    "            current_modified_time = os.path.getmtime(file_path)\n",
    "            if current_modified_time != last_modified_time:\n",
    "                temp = get_all_data()\n",
    "                points = np.vstack([temp['X'], temp['Y'], temp['Z']]).T\n",
    "\n",
    "                if temp is not None:\n",
    "                    pcd = o3d.geometry.PointCloud()\n",
    "                    pcd.points = o3d.utility.Vector3dVector(points)\n",
    "                    vis.clear_geometries()\n",
    "                    vis.add_geometry(pcd)\n",
    "                    vis.add_geometry(camera_lines)\n",
    "                    \n",
    "                last_modified_time = current_modified_time\n",
    "            \n",
    "            vis.update_geometry(pcd)\n",
    "            vis.poll_events()\n",
    "            vis.update_renderer()\n",
    "\n",
    "    except KeyboardInterrupt:\n",
    "        print(\"Stopped by user\")\n",
    "        \n",
    "    vis.destroy_window()"
   ]
  },
  {
   "cell_type": "code",
   "execution_count": 32,
   "metadata": {},
   "outputs": [],
   "source": [
    "def get_loaded_camera_matrices(camera_path):\n",
    "    with open(camera_path, 'r') as f:\n",
    "        loaded_data = json.load(f)\n",
    "        K_loaded = np.array(loaded_data['K'])\n",
    "        RT_loaded = np.array(loaded_data['RT'])\n",
    "        resx = int(loaded_data['resolution_x'])\n",
    "        resy = int(loaded_data['resolution_y'])\n",
    "\n",
    "    return resx, resy, K_loaded, RT_loaded"
   ]
  },
  {
   "cell_type": "code",
   "execution_count": 33,
   "metadata": {},
   "outputs": [],
   "source": [
    "def is_valid_csv_file(file_path):\n",
    "    \"\"\"\n",
    "    Checks if the given file path points to a valid CSV file.\n",
    "\n",
    "    Args:\n",
    "    - file_path (str): The file path to check.\n",
    "\n",
    "    Returns:\n",
    "    - bool: True if the file exists and has a '.csv' extension, False otherwise.\n",
    "    \"\"\"\n",
    "    # Check if file exists\n",
    "    if not os.path.isfile(file_path):\n",
    "        return False\n",
    "\n",
    "    # Check if file extension is '.csv'\n",
    "    _, file_extension = os.path.splitext(file_path)\n",
    "    if file_extension.lower() != '.csv':\n",
    "        return False\n",
    "\n",
    "    return True\n"
   ]
  },
  {
   "cell_type": "code",
   "execution_count": 34,
   "metadata": {},
   "outputs": [
    {
     "name": "stdout",
     "output_type": "stream",
     "text": [
      "Wed Jun 19 11:04:57 2024\n",
      "[Open3D WARNING] GLFW Error: WGL: Failed to make context current: The handle is invalid. \n",
      "[Open3D WARNING] GLFW Error: WGL: Failed to make context current: The requested transformation operation is not supported. \n",
      "[Open3D WARNING] GLFW Error: WGL: Failed to make context current: The handle is invalid. \n",
      "[Open3D WARNING] GLFW Error: WGL: Failed to make context current: The requested transformation operation is not supported. \n",
      "[Open3D WARNING] GLFW Error: WGL: Failed to make context current: The requested transformation operation is not supported. \n",
      "Waiting for the file data_repository/2.1 to be available and have content...\n",
      "Waiting for the file data_repository/1.1 to be available and have content...\n",
      "Waiting for the file data_repository/1.1 to be available and have content...\n",
      "[Open3D WARNING] GLFW Error: WGL: Failed to make context current: The handle is invalid. \n",
      "[Open3D WARNING] GLFW Error: WGL: Failed to make context current: The handle is invalid. \n",
      "Stopped by user\n"
     ]
    }
   ],
   "source": [
    "src_path = 'C:\\\\Programming\\\\Fourth Semester\\\\PointVIS\\\\PointVIS\\\\assets\\\\output\\\\'\n",
    "\n",
    "id = 1\n",
    "\n",
    "while True:\n",
    "    camera_path = src_path + f'camera{id}.csv'\n",
    "    if not is_valid_csv_file(camera_path):\n",
    "        break\n",
    "    id = id + 1\n",
    "\n",
    "camera_path = src_path + f'camera{id - 1}.csv'\n",
    "\n",
    "resx, resy, icm, ecm = get_loaded_camera_matrices(camera_path)\n",
    "df = get_all_data()\n",
    "visualize_without_colors(df, resx, resy, icm, ecm)"
   ]
  }
 ],
 "metadata": {
  "kernelspec": {
   "display_name": "ProjectPCD",
   "language": "python",
   "name": "python3"
  },
  "language_info": {
   "codemirror_mode": {
    "name": "ipython",
    "version": 3
   },
   "file_extension": ".py",
   "mimetype": "text/x-python",
   "name": "python",
   "nbconvert_exporter": "python",
   "pygments_lexer": "ipython3",
   "version": "3.8.18"
  }
 },
 "nbformat": 4,
 "nbformat_minor": 2
}
